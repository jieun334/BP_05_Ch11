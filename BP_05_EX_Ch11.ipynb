{
  "nbformat": 4,
  "nbformat_minor": 0,
  "metadata": {
    "colab": {
      "provenance": [],
      "authorship_tag": "ABX9TyOmRrV0VzU7jlGUOSV28Zzy",
      "include_colab_link": true
    },
    "kernelspec": {
      "name": "python3",
      "display_name": "Python 3"
    },
    "language_info": {
      "name": "python"
    }
  },
  "cells": [
    {
      "cell_type": "markdown",
      "metadata": {
        "id": "view-in-github",
        "colab_type": "text"
      },
      "source": [
        "<a href=\"https://colab.research.google.com/github/jieun334/BP_05_Ch11/blob/main/BP_05_EX_Ch11.ipynb\" target=\"_parent\"><img src=\"https://colab.research.google.com/assets/colab-badge.svg\" alt=\"Open In Colab\"/></a>"
      ]
    },
    {
      "cell_type": "markdown",
      "source": [
        "1. 사용자가 입력한 텍스트 파일을 열어서 파일 안에 글자가 몇 개나 있는지를 계산하는 프로그램을 작성하라."
      ],
      "metadata": {
        "id": "_uIM-Tzg68UI"
      }
    },
    {
      "cell_type": "code",
      "source": [
        "filename = input(\"파일 이름을 입력하세요 : \").strip()\n",
        "infile = open(filename, \"r\")\n",
        "count = 0\n",
        "\n",
        "for line in infile:\n",
        "    for ch in line:\n",
        "        count += 1\n",
        "\n",
        "print(\"파일 안에는 총\", count, \"개의 글자가 있습니다.\")\n",
        "infile.close()"
      ],
      "metadata": {
        "id": "zki3Bf7XAQ7j"
      },
      "execution_count": null,
      "outputs": []
    },
    {
      "cell_type": "markdown",
      "source": [
        "2. 사용자로부터 파일 이름과 삭제할 문자열을 입력받는다. 파일을 열어서 사용자가 원하는 문자열을 삭제한 후에 다시 파일에 쓴다."
      ],
      "metadata": {
        "id": "QesUY2f_ARj6"
      }
    },
    {
      "cell_type": "code",
      "source": [
        "infilename = input(\"파일 이름을 입력하세요 : \").strip()\n",
        "infile = open(infilename, \"r\")\n",
        "file_s = infile.read()\n",
        "removed_s = input(\"삭제할 문자열을 입력하세요 : \").strip()\n",
        "modified_s = file_s.replace(removed_s, \"\")\n",
        "\n",
        "infile.close()\n",
        "outfile = open(infilename, \"w\")\n",
        "\n",
        "print(modified_s, file = outfile, end= \"\")\n",
        "print(\"변경된 파일이 저장되었습니다. 확인해보세요.\")\n",
        "outfile.close()"
      ],
      "metadata": {
        "id": "45kKhUIvB_8D"
      },
      "execution_count": null,
      "outputs": []
    },
    {
      "cell_type": "markdown",
      "source": [
        "3. 사용자가 입력하는 파일에 있는 각 문자들이 나타내는 빈도를 계산하는 프로그램을 작성하라."
      ],
      "metadata": {
        "id": "Qstfwve1AX5y"
      }
    },
    {
      "cell_type": "code",
      "source": [
        "infile = open(infilename, \"r\")\n",
        "for line in infile:\n",
        "    ...\n",
        "def countline(line, counter):\n",
        "    for ch in line:\n",
        "        if ch.isalpha():\n",
        "            counter[ch] = counter[ch] + 1\n",
        "        else:\n",
        "            counter[ch] = 1\n",
        "\n",
        "fname = input(\"입력 파일 이름 : \").strip()\n",
        "infile = open(fname, \"r\")\n",
        "\n",
        "my_dict = {}\n",
        "for line in infile:\n",
        "    countLine(line, my_dict)\n",
        "\n",
        "print(my_dict)\n",
        "infile.close()"
      ],
      "metadata": {
        "id": "xrxap14kD9-f"
      },
      "execution_count": null,
      "outputs": []
    },
    {
      "cell_type": "markdown",
      "source": [
        "4. 파이썬에서는 객체를 파일에 저장할 수 있다. pickle 모듈을 사용하여서 정수 12, 실수 3.14, 리스트 [1, 2, 3, 4, 5]를 이진 파일 \"test.dat\"에 저장하였다가 다시 읽는 프로그램을 작성하고 테스트하라."
      ],
      "metadata": {
        "id": "TrgfOKisAcIy"
      }
    },
    {
      "cell_type": "code",
      "source": [
        "import pickle\n",
        "\n",
        "outfile = open(\"test.dat\", \"wb\")\n",
        "pickle.dump(12, outfile)\n",
        "pickle.dump(3.14, outfile)\n",
        "pickle.dump([1, 2, 3, 4, 5], outfile)\n",
        "outfile.close()\n",
        "\n",
        "infile = open(\"test.dat\", \"rb\")\n",
        "print(pickle.load(infile))\n",
        "print(pickle.load(infile))\n",
        "print(pickle.load(infile))\n",
        "infile.close()"
      ],
      "metadata": {
        "colab": {
          "base_uri": "https://localhost:8080/"
        },
        "id": "nPke0nn3q1lp",
        "outputId": "70955277-f975-4514-bb2e-746e981535d6"
      },
      "execution_count": 2,
      "outputs": [
        {
          "output_type": "stream",
          "name": "stdout",
          "text": [
            "12\n",
            "3.14\n",
            "[1, 2, 3, 4, 5]\n"
          ]
        }
      ]
    },
    {
      "cell_type": "markdown",
      "source": [
        "5. 텍스트 파일 \"data.txt\"에 실수값들이 저장되어 있다고 가정하자. 한 줄에 하나의 실수만 저장되어 있다. 이 파일을 읽어서 합계와 평균을 계산한 후에 이것을 \"output.txt\" 파일에 다음과 같이 저장하는 프로그램을 작성하라."
      ],
      "metadata": {
        "id": "xvx5Ss4tAsVq"
      }
    },
    {
      "cell_type": "code",
      "source": [
        "inFileName = input(\"입력 파일 이름 : \")\n",
        "outFileName = input(\"출력 파일 이름 : \")\n",
        "\n",
        "infile = open(inFileName, \"r\")\n",
        "outfile = open(outFileName, \"w\")\n",
        "\n",
        "total = 0.0\n",
        "count = 0\n",
        "\n",
        "line = infile.readline()\n",
        "while line != \"\" :\n",
        "  value = float(line)\n",
        "  total = total + value\n",
        "  count = count + 1\n",
        "  line = infile.readline()\n",
        "\n",
        "outfile.write(\"합계=\"+ str(total)+\"＼n\")\n",
        "\n",
        "avg = total / count\n",
        "outfile.write(\"평균=\"+ str(avg)+\"＼n\")\n",
        "\n",
        "infile.close()\n",
        "outfile.close()"
      ],
      "metadata": {
        "id": "cEIGWT4vtw_Z"
      },
      "execution_count": null,
      "outputs": []
    },
    {
      "cell_type": "markdown",
      "source": [
        "6. tkinter를 사용하여 다음과 같은 사용자 인터페이스를 만든다. \"추가\" 버튼을 누르면 사용자가 입력한 이름과 전화번호 리스트가 파일 \"phone_book.dat\"에 저장된다. \"파일 읽기\"를 누르면 파일 \"phone_book.dat\"에서 이름과 전화번호를 읽어오는 프로그램을 작성하라."
      ],
      "metadata": {
        "id": "376mNiYKA7C5"
      }
    },
    {
      "cell_type": "code",
      "source": [
        "import pickle\n",
        "from tkinter import *\n",
        "\n",
        "phone_book = {}\n",
        "current = 0\n",
        "name = \"\"\n",
        "phone = \"\"\n",
        "\n",
        "window = Tk()\n",
        "\n",
        "frame1 = Frame(window)\n",
        "frame1.pack()\n",
        "Label(frame1, text = \"이름    \").grid(row = 1, column = 1, sticky = W)\n",
        "nameEntry = Entry(frame1, textvariable = name, width = 30)\n",
        "nameEntry.grid(row = 1, column = 2)\n",
        "\n",
        "frame2 = Frame(window)\n",
        "frame2.pack()\n",
        "Label(frame2, text = \"전화번호\").grid(row = 1, column = 1, sticky = W)\n",
        "phoneEntry = Entry(frame2, textvariable = phone, width = 30)\n",
        "phoneEntry.grid(row = 1, column = 2)\n",
        "\n",
        "frame3 = Frame(window)\n",
        "frame3.pack()\n",
        "\n",
        "\n",
        "def save():\n",
        "    outfile = open(\"phonebook.dat\", \"wb\")\n",
        "    pickle.dump(phone_book, outfile)\n",
        "    print(\"주소들이 파일에 저장되었습니다.\")\n",
        "    outfile.close()\n",
        "\n",
        "def load():\n",
        "    infile = open(\"phonebook.dat\", \"rb\")\n",
        "    phone_book = pickle.load(infile)\n",
        "    infile.close()\n",
        "    print(\"파일에서 주소를 읽었습니다.\")\n",
        "    go_first()\n",
        "\n",
        "def add():\n",
        "    phone_book[nameEntry.get()] = phoneEntry.get()\n",
        "    print(phone_book)\n",
        "    save()\n",
        "\n",
        "def go_first():\n",
        "    global current\n",
        "    current = 0\n",
        "    ks = list(phone_book)\n",
        "    print(phone_book)\n",
        "    nameEntry.delete(0, END)\n",
        "    nameEntry.insert(0, ks[current])\n",
        "    phoneEntry.delete(0, END)\n",
        "    phoneEntry.insert(0, phone_book[ks[current]])\n",
        "\n",
        "def go_next():\n",
        "    global currnet\n",
        "    current += 1\n",
        "    ks = list(phone_book)\n",
        "    nameEntry.delete(0, END)\n",
        "    nameEntry.insert(0, ks[current])\n",
        "    phoneEntry.delete(0, END)\n",
        "    phoneEntry.insert(0, phone_book[ks[current]])\n",
        "\n",
        "def go_previous():\n",
        "    print(\"구현되지 않았음.\")\n",
        "\n",
        "def go_last():\n",
        "    print(\"구현되지 않았음.\")\n",
        "\n",
        "b1 = Button(frame3, text = \"추가\", command = add).grid(row = 1, column = 1)\n",
        "b2 = Button(frame3, text = \"처음\", command = go_first).grid(row = 1, column = 2)\n",
        "b3 = Button(frame3, text = \"다음\", command = go_next).grid(row = 1, column = 3)\n",
        "b4 = Button(frame3, text = \"이전\", command = go_previous).grid(row = 1, column = 4)\n",
        "b5 = Button(frame3, text = \"마지막\", command = go_last).grid(row = 1, column = 5)\n",
        "b6 = Button(frame3, text = \"파일 읽기\", command = load).grid(row = 1, column = 6)\n",
        "\n",
        "window.mainloop()"
      ],
      "metadata": {
        "id": "Re2x3KBotyMJ"
      },
      "execution_count": null,
      "outputs": []
    }
  ]
}